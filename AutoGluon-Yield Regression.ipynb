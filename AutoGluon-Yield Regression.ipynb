{
 "cells": [
  {
   "cell_type": "markdown",
   "id": "84908067-851a-4430-ae2d-4aff38d3c166",
   "metadata": {},
   "source": [
    "## AutoGluon-Yield Regression\n"
   ]
  },
  {
   "cell_type": "markdown",
   "id": "38f09f3f-1521-4a9f-95df-9ba84477c445",
   "metadata": {},
   "source": [
    "### Data Definition"
   ]
  },
  {
   "attachments": {},
   "cell_type": "markdown",
   "id": "50db0627-8dee-4fdf-a11d-e58d6f910de1",
   "metadata": {},
   "source": [
    "###  Column Definitions\n",
    "\n",
    "- **`Year`**: The year the data was recorded for crop yield and associated environmental conditions.\n",
    "- **`Area`**: The country or geographical region where the crop was cultivated.\n",
    "- **`Item`**: The type of crop (e.g., Maize, Potatoes, Rice, etc.).\n",
    "- **`Yield`**: The crop yield value, typically measured in hectograms per hectare (hg/ha).\n",
    "- **`Avg Rainfall`**: The average annual rainfall (in millimeters) for the region in that year.\n",
    "- **`Pesticides`**: The amount of pesticide used (in kilograms per hectare).\n",
    "- **`Temperature`**: The average annual temperature (in degrees Celsius) for the region in that year.\n",
    "\n"
   ]
  },
  {
   "cell_type": "markdown",
   "id": "9b1c9bcb-e61c-4fe1-8714-633af67661fe",
   "metadata": {},
   "source": [
    "## Model Objective\n"
   ]
  },
  {
   "cell_type": "markdown",
   "id": "f8f2beee-0c7f-4f7f-a9b8-7bb463b9c648",
   "metadata": {},
   "source": [
    "### Objective\n",
    "\n",
    "Develop a predictive model that estimates **crop yield (hg/ha)** based on environmental and agricultural variables such as **average rainfall**, **temperature**, and **pesticide usage**.\n",
    "\n",
    "The goals of this analysis are to:\n",
    "\n",
    "- Understand how factors like **climate conditions** (e.g., rainfall and temperature) and **chemical inputs** (e.g., pesticides) influence agricultural productivity.\n",
    "- Evaluate which features contribute most to variations in crop yield across different regions and crop types.\n",
    "- Build and validate a machine learning model (using AutoGluon) that can accurately predict **crop yield** from these inputs.\n",
    "- Explore the potential to forecast future crop yield patterns based on historical environmental data and usage trends.\n",
    "\n",
    "This project supports data-driven agricultural planning and can help inform strategies to improve food production under changing environmental conditions.\n"
   ]
  },
  {
   "cell_type": "markdown",
   "id": "df32a564-ed11-42ad-a745-085780d8df59",
   "metadata": {},
   "source": [
    "## Import necessary libraries"
   ]
  },
  {
   "cell_type": "code",
   "execution_count": 1,
   "id": "ed0033d7-1013-4800-931f-25772151ed2b",
   "metadata": {},
   "outputs": [],
   "source": [
    "# !pip install seaborn"
   ]
  },
  {
   "cell_type": "code",
   "execution_count": 2,
   "id": "7f3adde7-f394-416d-9c7e-fdb4d866a5eb",
   "metadata": {},
   "outputs": [],
   "source": [
    "# imports\n",
    "import pandas as pd\n",
    "import numpy as np\n",
    "\n",
    "import seaborn as sns\n",
    "import matplotlib.pyplot as plt\n",
    "from scipy import stats\n",
    "\n",
    "from autogluon.tabular import TabularDataset, TabularPredictor\n",
    "from sklearn.model_selection import train_test_split"
   ]
  },
  {
   "cell_type": "markdown",
   "id": "ac984ec9-c223-4d91-ab1a-dd96517422d3",
   "metadata": {},
   "source": [
    "## Load the Dataset"
   ]
  },
  {
   "cell_type": "code",
   "execution_count": 4,
   "id": "31c113ac-f415-4537-bbc8-2046f65634eb",
   "metadata": {},
   "outputs": [
    {
     "data": {
      "text/html": [
       "<div>\n",
       "<style scoped>\n",
       "    .dataframe tbody tr th:only-of-type {\n",
       "        vertical-align: middle;\n",
       "    }\n",
       "\n",
       "    .dataframe tbody tr th {\n",
       "        vertical-align: top;\n",
       "    }\n",
       "\n",
       "    .dataframe thead th {\n",
       "        text-align: right;\n",
       "    }\n",
       "</style>\n",
       "<table border=\"1\" class=\"dataframe\">\n",
       "  <thead>\n",
       "    <tr style=\"text-align: right;\">\n",
       "      <th></th>\n",
       "      <th>Unnamed: 0.1</th>\n",
       "      <th>Unnamed: 0</th>\n",
       "      <th>Area</th>\n",
       "      <th>Item</th>\n",
       "      <th>Year</th>\n",
       "      <th>Yield</th>\n",
       "      <th>Avg Rainfall</th>\n",
       "      <th>Pesticides</th>\n",
       "      <th>Temperature</th>\n",
       "      <th>k_labels</th>\n",
       "      <th>Cluster</th>\n",
       "    </tr>\n",
       "  </thead>\n",
       "  <tbody>\n",
       "    <tr>\n",
       "      <th>0</th>\n",
       "      <td>0</td>\n",
       "      <td>0</td>\n",
       "      <td>Albania</td>\n",
       "      <td>Maize</td>\n",
       "      <td>1990</td>\n",
       "      <td>36613</td>\n",
       "      <td>1485</td>\n",
       "      <td>121.0</td>\n",
       "      <td>16.37</td>\n",
       "      <td>1</td>\n",
       "      <td>1</td>\n",
       "    </tr>\n",
       "    <tr>\n",
       "      <th>1</th>\n",
       "      <td>1</td>\n",
       "      <td>1</td>\n",
       "      <td>Albania</td>\n",
       "      <td>Potatoes</td>\n",
       "      <td>1990</td>\n",
       "      <td>66667</td>\n",
       "      <td>1485</td>\n",
       "      <td>121.0</td>\n",
       "      <td>16.37</td>\n",
       "      <td>1</td>\n",
       "      <td>1</td>\n",
       "    </tr>\n",
       "    <tr>\n",
       "      <th>2</th>\n",
       "      <td>2</td>\n",
       "      <td>2</td>\n",
       "      <td>Albania</td>\n",
       "      <td>Rice</td>\n",
       "      <td>1990</td>\n",
       "      <td>23333</td>\n",
       "      <td>1485</td>\n",
       "      <td>121.0</td>\n",
       "      <td>16.37</td>\n",
       "      <td>1</td>\n",
       "      <td>1</td>\n",
       "    </tr>\n",
       "    <tr>\n",
       "      <th>3</th>\n",
       "      <td>3</td>\n",
       "      <td>3</td>\n",
       "      <td>Albania</td>\n",
       "      <td>Sorghum</td>\n",
       "      <td>1990</td>\n",
       "      <td>12500</td>\n",
       "      <td>1485</td>\n",
       "      <td>121.0</td>\n",
       "      <td>16.37</td>\n",
       "      <td>0</td>\n",
       "      <td>0</td>\n",
       "    </tr>\n",
       "    <tr>\n",
       "      <th>4</th>\n",
       "      <td>4</td>\n",
       "      <td>4</td>\n",
       "      <td>Albania</td>\n",
       "      <td>Soybeans</td>\n",
       "      <td>1990</td>\n",
       "      <td>7000</td>\n",
       "      <td>1485</td>\n",
       "      <td>121.0</td>\n",
       "      <td>16.37</td>\n",
       "      <td>0</td>\n",
       "      <td>0</td>\n",
       "    </tr>\n",
       "  </tbody>\n",
       "</table>\n",
       "</div>"
      ],
      "text/plain": [
       "   Unnamed: 0.1  Unnamed: 0     Area      Item  Year  Yield  Avg Rainfall  \\\n",
       "0             0           0  Albania     Maize  1990  36613          1485   \n",
       "1             1           1  Albania  Potatoes  1990  66667          1485   \n",
       "2             2           2  Albania      Rice  1990  23333          1485   \n",
       "3             3           3  Albania   Sorghum  1990  12500          1485   \n",
       "4             4           4  Albania  Soybeans  1990   7000          1485   \n",
       "\n",
       "   Pesticides  Temperature  k_labels  Cluster  \n",
       "0       121.0        16.37         1        1  \n",
       "1       121.0        16.37         1        1  \n",
       "2       121.0        16.37         1        1  \n",
       "3       121.0        16.37         0        0  \n",
       "4       121.0        16.37         0        0  "
      ]
     },
     "execution_count": 4,
     "metadata": {},
     "output_type": "execute_result"
    }
   ],
   "source": [
    "data=pd.read_csv('Yield_df.csv')\n",
    "data.head()\n"
   ]
  },
  {
   "cell_type": "markdown",
   "id": "41b30748-5063-48d7-bf6a-b5001123ab2a",
   "metadata": {},
   "source": [
    "## Checking Dataset Structures/EDA"
   ]
  },
  {
   "cell_type": "code",
   "execution_count": 5,
   "id": "1983083d-ad9a-4587-b5ee-9b1d4f633a4e",
   "metadata": {},
   "outputs": [
    {
     "name": "stdout",
     "output_type": "stream",
     "text": [
      "<class 'pandas.core.frame.DataFrame'>\n",
      "RangeIndex: 28242 entries, 0 to 28241\n",
      "Data columns (total 11 columns):\n",
      " #   Column        Non-Null Count  Dtype  \n",
      "---  ------        --------------  -----  \n",
      " 0   Unnamed: 0.1  28242 non-null  int64  \n",
      " 1   Unnamed: 0    28242 non-null  int64  \n",
      " 2   Area          28242 non-null  object \n",
      " 3   Item          28242 non-null  object \n",
      " 4   Year          28242 non-null  int64  \n",
      " 5   Yield         28242 non-null  int64  \n",
      " 6   Avg Rainfall  28242 non-null  int64  \n",
      " 7   Pesticides    28242 non-null  float64\n",
      " 8   Temperature   28242 non-null  float64\n",
      " 9   k_labels      28242 non-null  int64  \n",
      " 10  Cluster       28242 non-null  int64  \n",
      "dtypes: float64(2), int64(7), object(2)\n",
      "memory usage: 2.4+ MB\n"
     ]
    }
   ],
   "source": [
    "data.info()"
   ]
  },
  {
   "cell_type": "code",
   "execution_count": 6,
   "id": "40050b7c-dd5f-4ae8-8bc8-df6166b0bc2b",
   "metadata": {},
   "outputs": [
    {
     "data": {
      "text/plain": [
       "Index(['Unnamed: 0.1', 'Unnamed: 0', 'Area', 'Item', 'Year', 'Yield',\n",
       "       'Avg Rainfall', 'Pesticides', 'Temperature', 'k_labels', 'Cluster'],\n",
       "      dtype='object')"
      ]
     },
     "execution_count": 6,
     "metadata": {},
     "output_type": "execute_result"
    }
   ],
   "source": [
    "data.columns"
   ]
  },
  {
   "cell_type": "code",
   "execution_count": 7,
   "id": "d4ed2494-9041-4e10-a3f4-5d9c34992903",
   "metadata": {},
   "outputs": [
    {
     "data": {
      "text/plain": [
       "Unnamed: 0.1    0\n",
       "Unnamed: 0      0\n",
       "Area            0\n",
       "Item            0\n",
       "Year            0\n",
       "Yield           0\n",
       "Avg Rainfall    0\n",
       "Pesticides      0\n",
       "Temperature     0\n",
       "k_labels        0\n",
       "Cluster         0\n",
       "dtype: int64"
      ]
     },
     "execution_count": 7,
     "metadata": {},
     "output_type": "execute_result"
    }
   ],
   "source": [
    "# check for nulls\n",
    "data.isna().sum()"
   ]
  },
  {
   "cell_type": "markdown",
   "id": "6c204213-9f03-4761-a1c7-4754672bfc29",
   "metadata": {},
   "source": [
    "## Prepare data\n",
    "\n"
   ]
  },
  {
   "cell_type": "code",
   "execution_count": 7,
   "id": "3b691907-0ae6-4393-9365-eec1ea4300f4",
   "metadata": {},
   "outputs": [],
   "source": [
    "data = data.copy()"
   ]
  },
  {
   "cell_type": "code",
   "execution_count": 8,
   "id": "852295f2-4fef-4ca3-b4e9-2782880f95e1",
   "metadata": {},
   "outputs": [
    {
     "data": {
      "text/plain": [
       "Yield\n",
       "10000     100\n",
       "20000      98\n",
       "100000     81\n",
       "25000      37\n",
       "23796      33\n",
       "         ... \n",
       "146964      1\n",
       "15591       1\n",
       "50689       1\n",
       "64106       1\n",
       "22888       1\n",
       "Name: count, Length: 11514, dtype: int64"
      ]
     },
     "execution_count": 8,
     "metadata": {},
     "output_type": "execute_result"
    }
   ],
   "source": [
    "data['Yield'].value_counts()"
   ]
  },
  {
   "cell_type": "code",
   "execution_count": 10,
   "id": "28472639-8e36-43e2-a8e7-b9de572baf4d",
   "metadata": {},
   "outputs": [
    {
     "data": {
      "text/plain": [
       "Yield\n",
       "10000     0.003541\n",
       "20000     0.003470\n",
       "100000    0.002868\n",
       "25000     0.001310\n",
       "23796     0.001168\n",
       "            ...   \n",
       "146964    0.000035\n",
       "15591     0.000035\n",
       "50689     0.000035\n",
       "64106     0.000035\n",
       "22888     0.000035\n",
       "Name: count, Length: 11514, dtype: float64"
      ]
     },
     "execution_count": 10,
     "metadata": {},
     "output_type": "execute_result"
    }
   ],
   "source": [
    "# % \n",
    "data['Yield'].value_counts()/data.shape[0]"
   ]
  },
  {
   "cell_type": "markdown",
   "id": "4fcec081-1c0e-4efe-8ca4-ae05b23b900b",
   "metadata": {},
   "source": [
    "## Split the data into train and test sets"
   ]
  },
  {
   "cell_type": "code",
   "execution_count": 19,
   "id": "4ccdbd5b-3781-4e6f-9b84-ee6b1a8da0b7",
   "metadata": {},
   "outputs": [],
   "source": [
    "# Remove classes that occur less than twice\n",
    "value_counts = data['Yield'].value_counts()\n",
    "valid_classes = value_counts[value_counts >= 2].index\n",
    "filtered_data = data[data['Yield'].isin(valid_classes)]\n",
    "\n",
    "# Train Test Split\n",
    "train_df, test_df = train_test_split(\n",
    "    filtered_data, test_size=0.5, random_state=42, stratify=filtered_data['Yield']\n",
    ")\n"
   ]
  },
  {
   "cell_type": "code",
   "execution_count": 20,
   "id": "52974c21-ab4b-46a3-84ec-268febaf936c",
   "metadata": {},
   "outputs": [
    {
     "data": {
      "text/plain": [
       "Yield\n",
       "10000     0.004794\n",
       "20000     0.004698\n",
       "100000    0.003835\n",
       "25000     0.001726\n",
       "23796     0.001534\n",
       "            ...   \n",
       "66988     0.000096\n",
       "60250     0.000096\n",
       "108337    0.000096\n",
       "57197     0.000096\n",
       "31746     0.000096\n",
       "Name: count, Length: 4131, dtype: float64"
      ]
     },
     "execution_count": 20,
     "metadata": {},
     "output_type": "execute_result"
    }
   ],
   "source": [
    "train_df['Yield'].value_counts()/train_df.shape[0]"
   ]
  },
  {
   "cell_type": "code",
   "execution_count": 21,
   "id": "29a76264-29d7-4e87-9d25-9cfa238aa41b",
   "metadata": {},
   "outputs": [
    {
     "data": {
      "text/plain": [
       "Yield\n",
       "10000     0.004794\n",
       "20000     0.004698\n",
       "100000    0.003931\n",
       "25000     0.001822\n",
       "23796     0.001630\n",
       "            ...   \n",
       "38120     0.000096\n",
       "42295     0.000096\n",
       "15855     0.000096\n",
       "12800     0.000096\n",
       "11598     0.000096\n",
       "Name: count, Length: 4131, dtype: float64"
      ]
     },
     "execution_count": 21,
     "metadata": {},
     "output_type": "execute_result"
    }
   ],
   "source": [
    "# test_df= unseen data\n",
    "test_df['Yield'].value_counts()/train_df.shape[0]"
   ]
  },
  {
   "cell_type": "code",
   "execution_count": 22,
   "id": "71405ca0-0b1e-44da-8c25-8c254f77e59f",
   "metadata": {},
   "outputs": [
    {
     "name": "stderr",
     "output_type": "stream",
     "text": [
      "Warning: path already exists! This predictor may overwrite an existing predictor! path=\"Ag_models_2\"\n"
     ]
    }
   ],
   "source": [
    "# Create the predictor and fit the data\n",
    "predictor = TabularPredictor(label='Yield', path='Ag_models_2')"
   ]
  },
  {
   "cell_type": "code",
   "execution_count": 23,
   "id": "3ddf5738-a9ce-4464-ae2e-7c62132f2e4c",
   "metadata": {},
   "outputs": [
    {
     "name": "stderr",
     "output_type": "stream",
     "text": [
      "Verbosity: 2 (Standard Logging)\n",
      "=================== System Info ===================\n",
      "AutoGluon Version:  1.2\n",
      "Python Version:     3.9.21\n",
      "Operating System:   Windows\n",
      "Platform Machine:   AMD64\n",
      "Platform Version:   10.0.19045\n",
      "CPU Count:          4\n",
      "Memory Avail:       3.37 GB / 11.91 GB (28.3%)\n",
      "Disk Space Avail:   16.36 GB / 237.23 GB (6.9%)\n",
      "===================================================\n",
      "No presets specified! To achieve strong results with AutoGluon, it is recommended to use the available presets. Defaulting to `'medium'`...\n",
      "\tRecommended Presets (For more details refer to https://auto.gluon.ai/stable/tutorials/tabular/tabular-essentials.html#presets):\n",
      "\tpresets='experimental' : New in v1.2: Pre-trained foundation model + parallel fits. The absolute best accuracy without consideration for inference speed. Does not support GPU.\n",
      "\tpresets='best'         : Maximize accuracy. Recommended for most users. Use in competitions and benchmarks.\n",
      "\tpresets='high'         : Strong accuracy with fast inference speed.\n",
      "\tpresets='good'         : Good accuracy with very fast inference speed.\n",
      "\tpresets='medium'       : Fast training time, ideal for initial prototyping.\n",
      "Beginning AutoGluon training ...\n",
      "AutoGluon will save models to \"C:\\Users\\qs142\\Downloads\\Ag_models_2\"\n",
      "Train Data Rows:    10429\n",
      "Train Data Columns: 10\n",
      "Label Column:       Yield\n",
      "AutoGluon infers your prediction problem is: 'regression' (because dtype of label-column == int and many unique label-values observed).\n",
      "\tLabel info (max, min, mean, stddev): (457565, 866, 78790.77754, 86605.86832)\n",
      "\tIf 'regression' is not the correct problem_type, please manually specify the problem_type parameter during Predictor init (You may specify problem_type as one of: ['binary', 'multiclass', 'regression', 'quantile'])\n",
      "Problem Type:       regression\n",
      "Preprocessing data ...\n",
      "Using Feature Generators to preprocess the data ...\n",
      "Fitting AutoMLPipelineFeatureGenerator...\n",
      "\tAvailable Memory:                    3447.53 MB\n",
      "\tTrain Data (Original)  Memory Usage: 1.91 MB (0.1% of available memory)\n",
      "\tInferring data type of each feature based on column values. Set feature_metadata_in to manually specify special dtypes of the features.\n",
      "\tStage 1 Generators:\n",
      "\t\tFitting AsTypeFeatureGenerator...\n",
      "\tStage 2 Generators:\n",
      "\t\tFitting FillNaFeatureGenerator...\n",
      "\tStage 3 Generators:\n",
      "\t\tFitting IdentityFeatureGenerator...\n",
      "\t\tFitting CategoryFeatureGenerator...\n",
      "\t\t\tFitting CategoryMemoryMinimizeFeatureGenerator...\n",
      "\tStage 4 Generators:\n",
      "\t\tFitting DropUniqueFeatureGenerator...\n",
      "\tStage 5 Generators:\n",
      "\t\tFitting DropDuplicatesFeatureGenerator...\n",
      "\tUnused Original Features (Count: 2): ['Unnamed: 0', 'Cluster']\n",
      "\t\tThese features were not used to generate any of the output features. Add a feature generator compatible with these features to utilize them.\n",
      "\t\tFeatures can also be unused if they carry very little information, such as being categorical but having almost entirely unique values or being duplicates of other features.\n",
      "\t\tThese features do not need to be present at inference time.\n",
      "\t\t('int', []) : 2 | ['Unnamed: 0', 'Cluster']\n",
      "\tTypes of features in original data (raw dtype, special dtypes):\n",
      "\t\t('float', [])  : 2 | ['Pesticides', 'Temperature']\n",
      "\t\t('int', [])    : 4 | ['Unnamed: 0.1', 'Year', 'Avg Rainfall', 'k_labels']\n",
      "\t\t('object', []) : 2 | ['Area', 'Item']\n",
      "\tTypes of features in processed data (raw dtype, special dtypes):\n",
      "\t\t('category', []) : 2 | ['Area', 'Item']\n",
      "\t\t('float', [])    : 2 | ['Pesticides', 'Temperature']\n",
      "\t\t('int', [])      : 4 | ['Unnamed: 0.1', 'Year', 'Avg Rainfall', 'k_labels']\n",
      "\t1.0s = Fit runtime\n",
      "\t8 features in original data used to generate 8 features in processed data.\n",
      "\tTrain Data (Processed) Memory Usage: 0.50 MB (0.0% of available memory)\n",
      "Data preprocessing and feature engineering runtime = 1.11s ...\n",
      "AutoGluon will gauge predictive performance using evaluation metric: 'root_mean_squared_error'\n",
      "\tThis metric's sign has been flipped to adhere to being higher_is_better. The metric score can be multiplied by -1 to get the metric value.\n",
      "\tTo change this, specify the eval_metric parameter of Predictor()\n",
      "Automatically generating train/validation split with holdout_frac=0.1, Train Rows: 9386, Val Rows: 1043\n",
      "User-specified model hyperparameters to be fit:\n",
      "{\n",
      "\t'NN_TORCH': [{}],\n",
      "\t'GBM': [{'extra_trees': True, 'ag_args': {'name_suffix': 'XT'}}, {}, {'learning_rate': 0.03, 'num_leaves': 128, 'feature_fraction': 0.9, 'min_data_in_leaf': 3, 'ag_args': {'name_suffix': 'Large', 'priority': 0, 'hyperparameter_tune_kwargs': None}}],\n",
      "\t'CAT': [{}],\n",
      "\t'XGB': [{}],\n",
      "\t'FASTAI': [{}],\n",
      "\t'RF': [{'criterion': 'gini', 'ag_args': {'name_suffix': 'Gini', 'problem_types': ['binary', 'multiclass']}}, {'criterion': 'entropy', 'ag_args': {'name_suffix': 'Entr', 'problem_types': ['binary', 'multiclass']}}, {'criterion': 'squared_error', 'ag_args': {'name_suffix': 'MSE', 'problem_types': ['regression', 'quantile']}}],\n",
      "\t'XT': [{'criterion': 'gini', 'ag_args': {'name_suffix': 'Gini', 'problem_types': ['binary', 'multiclass']}}, {'criterion': 'entropy', 'ag_args': {'name_suffix': 'Entr', 'problem_types': ['binary', 'multiclass']}}, {'criterion': 'squared_error', 'ag_args': {'name_suffix': 'MSE', 'problem_types': ['regression', 'quantile']}}],\n",
      "\t'KNN': [{'weights': 'uniform', 'ag_args': {'name_suffix': 'Unif'}}, {'weights': 'distance', 'ag_args': {'name_suffix': 'Dist'}}],\n",
      "}\n",
      "Fitting 11 L1 models, fit_strategy=\"sequential\" ...\n",
      "Fitting model: KNeighborsUnif ...\n",
      "\t-73740.882\t = Validation score   (-root_mean_squared_error)\n",
      "\t0.05s\t = Training   runtime\n",
      "\t0.03s\t = Validation runtime\n",
      "Fitting model: KNeighborsDist ...\n",
      "\t-72580.0042\t = Validation score   (-root_mean_squared_error)\n",
      "\t0.04s\t = Training   runtime\n",
      "\t0.03s\t = Validation runtime\n",
      "Fitting model: LightGBMXT ...\n"
     ]
    },
    {
     "name": "stdout",
     "output_type": "stream",
     "text": [
      "[1000]\tvalid_set's rmse: 10820.1\n",
      "[2000]\tvalid_set's rmse: 9879.33\n",
      "[3000]\tvalid_set's rmse: 9416.56\n",
      "[4000]\tvalid_set's rmse: 9147.11\n",
      "[5000]\tvalid_set's rmse: 9003.72\n",
      "[6000]\tvalid_set's rmse: 8920.47\n",
      "[7000]\tvalid_set's rmse: 8830.08\n",
      "[8000]\tvalid_set's rmse: 8761.25\n",
      "[9000]\tvalid_set's rmse: 8695.91\n",
      "[10000]\tvalid_set's rmse: 8640.46\n"
     ]
    },
    {
     "name": "stderr",
     "output_type": "stream",
     "text": [
      "\t-8640.198\t = Validation score   (-root_mean_squared_error)\n",
      "\t17.12s\t = Training   runtime\n",
      "\t0.75s\t = Validation runtime\n",
      "Fitting model: LightGBM ...\n"
     ]
    },
    {
     "name": "stdout",
     "output_type": "stream",
     "text": [
      "[1000]\tvalid_set's rmse: 9856.4\n",
      "[2000]\tvalid_set's rmse: 9320.65\n",
      "[3000]\tvalid_set's rmse: 9096.82\n",
      "[4000]\tvalid_set's rmse: 8990.17\n",
      "[5000]\tvalid_set's rmse: 8925.96\n",
      "[6000]\tvalid_set's rmse: 8865.46\n",
      "[7000]\tvalid_set's rmse: 8832.48\n",
      "[8000]\tvalid_set's rmse: 8803.28\n",
      "[9000]\tvalid_set's rmse: 8784.68\n",
      "[10000]\tvalid_set's rmse: 8769.69\n"
     ]
    },
    {
     "name": "stderr",
     "output_type": "stream",
     "text": [
      "\t-8769.5071\t = Validation score   (-root_mean_squared_error)\n",
      "\t15.46s\t = Training   runtime\n",
      "\t0.84s\t = Validation runtime\n",
      "Fitting model: RandomForestMSE ...\n",
      "\t-11755.9309\t = Validation score   (-root_mean_squared_error)\n",
      "\t7.1s\t = Training   runtime\n",
      "\t0.09s\t = Validation runtime\n",
      "Fitting model: CatBoost ...\n",
      "\t-9496.5498\t = Validation score   (-root_mean_squared_error)\n",
      "\t409.4s\t = Training   runtime\n",
      "\t0.04s\t = Validation runtime\n",
      "Fitting model: ExtraTreesMSE ...\n",
      "\t-9551.8912\t = Validation score   (-root_mean_squared_error)\n",
      "\t2.69s\t = Training   runtime\n",
      "\t0.1s\t = Validation runtime\n",
      "Fitting model: NeuralNetFastAI ...\n",
      "\t-11968.9228\t = Validation score   (-root_mean_squared_error)\n",
      "\t14.32s\t = Training   runtime\n",
      "\t0.03s\t = Validation runtime\n",
      "Fitting model: XGBoost ...\n",
      "\t-8888.154\t = Validation score   (-root_mean_squared_error)\n",
      "\t41.87s\t = Training   runtime\n",
      "\t0.89s\t = Validation runtime\n",
      "Fitting model: NeuralNetTorch ...\n",
      "\t-10535.539\t = Validation score   (-root_mean_squared_error)\n",
      "\t112.83s\t = Training   runtime\n",
      "\t0.01s\t = Validation runtime\n",
      "Fitting model: LightGBMLarge ...\n"
     ]
    },
    {
     "name": "stdout",
     "output_type": "stream",
     "text": [
      "[1000]\tvalid_set's rmse: 10564.7\n",
      "[2000]\tvalid_set's rmse: 10424.6\n",
      "[3000]\tvalid_set's rmse: 10370.8\n",
      "[4000]\tvalid_set's rmse: 10355.8\n",
      "[5000]\tvalid_set's rmse: 10348.3\n",
      "[6000]\tvalid_set's rmse: 10344.5\n",
      "[7000]\tvalid_set's rmse: 10342\n",
      "[8000]\tvalid_set's rmse: 10340.9\n",
      "[9000]\tvalid_set's rmse: 10340.1\n",
      "[10000]\tvalid_set's rmse: 10339.6\n"
     ]
    },
    {
     "name": "stderr",
     "output_type": "stream",
     "text": [
      "\t-10339.5746\t = Validation score   (-root_mean_squared_error)\n",
      "\t37.06s\t = Training   runtime\n",
      "\t1.03s\t = Validation runtime\n",
      "Fitting model: WeightedEnsemble_L2 ...\n",
      "\tEnsemble Weights: {'LightGBMXT': 0.304, 'LightGBM': 0.304, 'XGBoost': 0.261, 'NeuralNetTorch': 0.13}\n",
      "\t-8297.0629\t = Validation score   (-root_mean_squared_error)\n",
      "\t0.03s\t = Training   runtime\n",
      "\t0.0s\t = Validation runtime\n",
      "AutoGluon training complete, total runtime = 672.81s ... Best model: WeightedEnsemble_L2 | Estimated inference throughput: 417.3 rows/s (1043 batch size)\n",
      "TabularPredictor saved. To load, use: predictor = TabularPredictor.load(\"C:\\Users\\qs142\\Downloads\\Ag_models_2\")\n"
     ]
    },
    {
     "data": {
      "text/plain": [
       "<autogluon.tabular.predictor.predictor.TabularPredictor at 0x1e3c5ce0d90>"
      ]
     },
     "execution_count": 23,
     "metadata": {},
     "output_type": "execute_result"
    }
   ],
   "source": [
    "# observe the output\n",
    "predictor.fit(train_df)"
   ]
  },
  {
   "cell_type": "code",
   "execution_count": 26,
   "id": "39fbf0b0-5226-4f86-acb8-c72e2251e6e8",
   "metadata": {},
   "outputs": [
    {
     "name": "stderr",
     "output_type": "stream",
     "text": [
      "C:\\Users\\qs142\\anaconda3\\envs\\autogluon_env\\lib\\site-packages\\fastai\\learner.py:455: UserWarning: load_learner` uses Python's insecure pickle module, which can execute malicious arbitrary code when loading. Only load files you trust.\n",
      "If you only need to load model weights and optimizer state, use the safe `Learner.load` instead.\n",
      "  warn(\"load_learner` uses Python's insecure pickle module, which can execute malicious arbitrary code when loading. Only load files you trust.\\nIf you only need to load model weights and optimizer state, use the safe `Learner.load` instead.\")\n"
     ]
    },
    {
     "name": "stdout",
     "output_type": "stream",
     "text": [
      "*** Summary of fit() ***\n",
      "Estimated performance of each model:\n",
      "                  model     score_val              eval_metric  pred_time_val    fit_time  pred_time_val_marginal  fit_time_marginal  stack_level  can_infer  fit_order\n",
      "0   WeightedEnsemble_L2  -8297.062867  root_mean_squared_error       2.499316  187.304248                0.001000           0.028925            2       True         12\n",
      "1            LightGBMXT  -8640.198022  root_mean_squared_error       0.751990   17.118672                0.751990          17.118672            1       True          3\n",
      "2              LightGBM  -8769.507149  root_mean_squared_error       0.844740   15.458632                0.844740          15.458632            1       True          4\n",
      "3               XGBoost  -8888.154004  root_mean_squared_error       0.887623   41.867957                0.887623          41.867957            1       True          9\n",
      "4              CatBoost  -9496.549832  root_mean_squared_error       0.035907  409.400594                0.035907         409.400594            1       True          6\n",
      "5         ExtraTreesMSE  -9551.891191  root_mean_squared_error       0.095210    2.692783                0.095210           2.692783            1       True          7\n",
      "6         LightGBMLarge -10339.574612  root_mean_squared_error       1.028249   37.062816                1.028249          37.062816            1       True         11\n",
      "7        NeuralNetTorch -10535.539014  root_mean_squared_error       0.013963  112.830062                0.013963         112.830062            1       True         10\n",
      "8       RandomForestMSE -11755.930930  root_mean_squared_error       0.093759    7.100997                0.093759           7.100997            1       True          5\n",
      "9       NeuralNetFastAI -11968.922815  root_mean_squared_error       0.030913   14.322201                0.030913          14.322201            1       True          8\n",
      "10       KNeighborsDist -72580.004236  root_mean_squared_error       0.033120    0.035899                0.033120           0.035899            1       True          2\n",
      "11       KNeighborsUnif -73740.882029  root_mean_squared_error       0.025039    0.047870                0.025039           0.047870            1       True          1\n",
      "Number of models trained: 12\n",
      "Types of models trained:\n",
      "{'NNFastAiTabularModel', 'WeightedEnsembleModel', 'TabularNeuralNetTorchModel', 'XTModel', 'LGBModel', 'XGBoostModel', 'KNNModel', 'RFModel', 'CatBoostModel'}\n",
      "Bagging used: False \n",
      "Multi-layer stack-ensembling used: False \n",
      "Feature Metadata (Processed):\n",
      "(raw dtype, special dtypes):\n",
      "('category', []) : 2 | ['Area', 'Item']\n",
      "('float', [])    : 2 | ['Pesticides', 'Temperature']\n",
      "('int', [])      : 4 | ['Unnamed: 0.1', 'Year', 'Avg Rainfall', 'k_labels']\n",
      "*** End of fit() summary ***\n"
     ]
    },
    {
     "name": "stderr",
     "output_type": "stream",
     "text": [
      "C:\\Users\\qs142\\anaconda3\\envs\\autogluon_env\\lib\\site-packages\\autogluon\\core\\utils\\plots.py:169: UserWarning: AutoGluon summary plots cannot be created because bokeh is not installed. To see plots, please do: \"pip install bokeh==2.0.1\"\n",
      "  warnings.warn('AutoGluon summary plots cannot be created because bokeh is not installed. To see plots, please do: \"pip install bokeh==2.0.1\"')\n"
     ]
    },
    {
     "data": {
      "text/plain": [
       "{'model_types': {'KNeighborsUnif': 'KNNModel',\n",
       "  'KNeighborsDist': 'KNNModel',\n",
       "  'LightGBMXT': 'LGBModel',\n",
       "  'LightGBM': 'LGBModel',\n",
       "  'RandomForestMSE': 'RFModel',\n",
       "  'CatBoost': 'CatBoostModel',\n",
       "  'ExtraTreesMSE': 'XTModel',\n",
       "  'NeuralNetFastAI': 'NNFastAiTabularModel',\n",
       "  'XGBoost': 'XGBoostModel',\n",
       "  'NeuralNetTorch': 'TabularNeuralNetTorchModel',\n",
       "  'LightGBMLarge': 'LGBModel',\n",
       "  'WeightedEnsemble_L2': 'WeightedEnsembleModel'},\n",
       " 'model_performance': {'KNeighborsUnif': -73740.88202892586,\n",
       "  'KNeighborsDist': -72580.00423598342,\n",
       "  'LightGBMXT': -8640.198022002352,\n",
       "  'LightGBM': -8769.507148844754,\n",
       "  'RandomForestMSE': -11755.930930368786,\n",
       "  'CatBoost': -9496.549832083107,\n",
       "  'ExtraTreesMSE': -9551.891191322205,\n",
       "  'NeuralNetFastAI': -11968.92281462971,\n",
       "  'XGBoost': -8888.154004363467,\n",
       "  'NeuralNetTorch': -10535.539013930264,\n",
       "  'LightGBMLarge': -10339.57461186539,\n",
       "  'WeightedEnsemble_L2': -8297.062866740309},\n",
       " 'model_best': 'WeightedEnsemble_L2',\n",
       " 'model_paths': {'KNeighborsUnif': ['KNeighborsUnif'],\n",
       "  'KNeighborsDist': ['KNeighborsDist'],\n",
       "  'LightGBMXT': ['LightGBMXT'],\n",
       "  'LightGBM': ['LightGBM'],\n",
       "  'RandomForestMSE': ['RandomForestMSE'],\n",
       "  'CatBoost': ['CatBoost'],\n",
       "  'ExtraTreesMSE': ['ExtraTreesMSE'],\n",
       "  'NeuralNetFastAI': ['NeuralNetFastAI'],\n",
       "  'XGBoost': ['XGBoost'],\n",
       "  'NeuralNetTorch': ['NeuralNetTorch'],\n",
       "  'LightGBMLarge': ['LightGBMLarge'],\n",
       "  'WeightedEnsemble_L2': ['WeightedEnsemble_L2']},\n",
       " 'model_fit_times': {'KNeighborsUnif': 0.04787015914916992,\n",
       "  'KNeighborsDist': 0.03589916229248047,\n",
       "  'LightGBMXT': 17.118672132492065,\n",
       "  'LightGBM': 15.458632469177246,\n",
       "  'RandomForestMSE': 7.10099720954895,\n",
       "  'CatBoost': 409.4005935192108,\n",
       "  'ExtraTreesMSE': 2.6927828788757324,\n",
       "  'NeuralNetFastAI': 14.322200775146484,\n",
       "  'XGBoost': 41.86795687675476,\n",
       "  'NeuralNetTorch': 112.83006191253662,\n",
       "  'LightGBMLarge': 37.06281590461731,\n",
       "  'WeightedEnsemble_L2': 0.028924942016601562},\n",
       " 'model_pred_times': {'KNeighborsUnif': 0.025039196014404297,\n",
       "  'KNeighborsDist': 0.03312039375305176,\n",
       "  'LightGBMXT': 0.7519900798797607,\n",
       "  'LightGBM': 0.8447401523590088,\n",
       "  'RandomForestMSE': 0.09375905990600586,\n",
       "  'CatBoost': 0.03590703010559082,\n",
       "  'ExtraTreesMSE': 0.09521031379699707,\n",
       "  'NeuralNetFastAI': 0.03091263771057129,\n",
       "  'XGBoost': 0.8876228332519531,\n",
       "  'NeuralNetTorch': 0.013963460922241211,\n",
       "  'LightGBMLarge': 1.0282492637634277,\n",
       "  'WeightedEnsemble_L2': 0.0009996891021728516},\n",
       " 'num_bag_folds': 0,\n",
       " 'max_stack_level': 2,\n",
       " 'model_hyperparams': {'KNeighborsUnif': {'weights': 'uniform'},\n",
       "  'KNeighborsDist': {'weights': 'distance'},\n",
       "  'LightGBMXT': {'learning_rate': 0.05, 'extra_trees': True},\n",
       "  'LightGBM': {'learning_rate': 0.05},\n",
       "  'RandomForestMSE': {'n_estimators': 300,\n",
       "   'max_leaf_nodes': 15000,\n",
       "   'n_jobs': -1,\n",
       "   'random_state': 0,\n",
       "   'bootstrap': True,\n",
       "   'criterion': 'squared_error'},\n",
       "  'CatBoost': {'iterations': 10000,\n",
       "   'learning_rate': 0.05,\n",
       "   'random_seed': 0,\n",
       "   'allow_writing_files': False,\n",
       "   'eval_metric': 'RMSE'},\n",
       "  'ExtraTreesMSE': {'n_estimators': 300,\n",
       "   'max_leaf_nodes': 15000,\n",
       "   'n_jobs': -1,\n",
       "   'random_state': 0,\n",
       "   'bootstrap': True,\n",
       "   'criterion': 'squared_error'},\n",
       "  'NeuralNetFastAI': {'layers': None,\n",
       "   'emb_drop': 0.1,\n",
       "   'ps': 0.1,\n",
       "   'bs': 'auto',\n",
       "   'lr': 0.01,\n",
       "   'epochs': 'auto',\n",
       "   'early.stopping.min_delta': 0.0001,\n",
       "   'early.stopping.patience': 20,\n",
       "   'smoothing': 0.0},\n",
       "  'XGBoost': {'n_estimators': 10000,\n",
       "   'learning_rate': 0.1,\n",
       "   'n_jobs': -1,\n",
       "   'proc.max_category_levels': 100,\n",
       "   'objective': 'reg:squarederror',\n",
       "   'booster': 'gbtree'},\n",
       "  'NeuralNetTorch': {'num_epochs': 1000,\n",
       "   'epochs_wo_improve': None,\n",
       "   'activation': 'relu',\n",
       "   'embedding_size_factor': 1.0,\n",
       "   'embed_exponent': 0.56,\n",
       "   'max_embedding_dim': 100,\n",
       "   'y_range': None,\n",
       "   'y_range_extend': 0.05,\n",
       "   'dropout_prob': 0.1,\n",
       "   'optimizer': 'adam',\n",
       "   'learning_rate': 0.0003,\n",
       "   'weight_decay': 1e-06,\n",
       "   'proc.embed_min_categories': 4,\n",
       "   'proc.impute_strategy': 'median',\n",
       "   'proc.max_category_levels': 100,\n",
       "   'proc.skew_threshold': 0.99,\n",
       "   'use_ngram_features': False,\n",
       "   'num_layers': 4,\n",
       "   'hidden_size': 128,\n",
       "   'max_batch_size': 512,\n",
       "   'use_batchnorm': False,\n",
       "   'loss_function': 'auto'},\n",
       "  'LightGBMLarge': {'learning_rate': 0.03,\n",
       "   'num_leaves': 128,\n",
       "   'feature_fraction': 0.9,\n",
       "   'min_data_in_leaf': 3},\n",
       "  'WeightedEnsemble_L2': {'use_orig_features': False,\n",
       "   'valid_stacker': True,\n",
       "   'max_base_models': 0,\n",
       "   'max_base_models_per_type': 'auto',\n",
       "   'save_bag_folds': True}},\n",
       " 'leaderboard':                   model     score_val              eval_metric  pred_time_val  \\\n",
       " 0   WeightedEnsemble_L2  -8297.062867  root_mean_squared_error       2.499316   \n",
       " 1            LightGBMXT  -8640.198022  root_mean_squared_error       0.751990   \n",
       " 2              LightGBM  -8769.507149  root_mean_squared_error       0.844740   \n",
       " 3               XGBoost  -8888.154004  root_mean_squared_error       0.887623   \n",
       " 4              CatBoost  -9496.549832  root_mean_squared_error       0.035907   \n",
       " 5         ExtraTreesMSE  -9551.891191  root_mean_squared_error       0.095210   \n",
       " 6         LightGBMLarge -10339.574612  root_mean_squared_error       1.028249   \n",
       " 7        NeuralNetTorch -10535.539014  root_mean_squared_error       0.013963   \n",
       " 8       RandomForestMSE -11755.930930  root_mean_squared_error       0.093759   \n",
       " 9       NeuralNetFastAI -11968.922815  root_mean_squared_error       0.030913   \n",
       " 10       KNeighborsDist -72580.004236  root_mean_squared_error       0.033120   \n",
       " 11       KNeighborsUnif -73740.882029  root_mean_squared_error       0.025039   \n",
       " \n",
       "       fit_time  pred_time_val_marginal  fit_time_marginal  stack_level  \\\n",
       " 0   187.304248                0.001000           0.028925            2   \n",
       " 1    17.118672                0.751990          17.118672            1   \n",
       " 2    15.458632                0.844740          15.458632            1   \n",
       " 3    41.867957                0.887623          41.867957            1   \n",
       " 4   409.400594                0.035907         409.400594            1   \n",
       " 5     2.692783                0.095210           2.692783            1   \n",
       " 6    37.062816                1.028249          37.062816            1   \n",
       " 7   112.830062                0.013963         112.830062            1   \n",
       " 8     7.100997                0.093759           7.100997            1   \n",
       " 9    14.322201                0.030913          14.322201            1   \n",
       " 10    0.035899                0.033120           0.035899            1   \n",
       " 11    0.047870                0.025039           0.047870            1   \n",
       " \n",
       "     can_infer  fit_order  \n",
       " 0        True         12  \n",
       " 1        True          3  \n",
       " 2        True          4  \n",
       " 3        True          9  \n",
       " 4        True          6  \n",
       " 5        True          7  \n",
       " 6        True         11  \n",
       " 7        True         10  \n",
       " 8        True          5  \n",
       " 9        True          8  \n",
       " 10       True          2  \n",
       " 11       True          1  }"
      ]
     },
     "execution_count": 26,
     "metadata": {},
     "output_type": "execute_result"
    }
   ],
   "source": [
    "# summary\n",
    "predictor.fit_summary()"
   ]
  },
  {
   "cell_type": "code",
   "execution_count": 27,
   "id": "b15b4f78-67c2-49e0-97b4-16d2e01d4281",
   "metadata": {},
   "outputs": [
    {
     "data": {
      "text/plain": [
       "Index(['Unnamed: 0.1', 'Unnamed: 0', 'Area', 'Item', 'Year', 'Yield',\n",
       "       'Avg Rainfall', 'Pesticides', 'Temperature', 'k_labels', 'Cluster'],\n",
       "      dtype='object')"
      ]
     },
     "execution_count": 27,
     "metadata": {},
     "output_type": "execute_result"
    }
   ],
   "source": [
    "test_df.columns"
   ]
  },
  {
   "cell_type": "markdown",
   "id": "4e668aea-69ac-48d4-a1dd-f7e0af8073cd",
   "metadata": {},
   "source": [
    "## Prediction"
   ]
  },
  {
   "cell_type": "code",
   "execution_count": 28,
   "id": "eaf37f1e-ff8b-478f-a8a7-801d209a3955",
   "metadata": {},
   "outputs": [],
   "source": [
    "# validate the model against unseen data\n",
    "y_test = test_df['Yield']\n",
    "test_data = test_df.drop(columns=['Yield'])"
   ]
  },
  {
   "cell_type": "code",
   "execution_count": 29,
   "id": "124e741c-e413-45bb-a502-a745898a7733",
   "metadata": {},
   "outputs": [],
   "source": [
    "y_pred = predictor.predict(test_data)"
   ]
  },
  {
   "cell_type": "markdown",
   "id": "f678a044-5871-4083-92ca-0bc4974025be",
   "metadata": {},
   "source": [
    "## Evaluation"
   ]
  },
  {
   "cell_type": "code",
   "execution_count": 30,
   "id": "e8d59236-59c7-4e6c-936b-e9ca230de148",
   "metadata": {},
   "outputs": [],
   "source": [
    "metrics = predictor.evaluate_predictions(y_true=y_test, y_pred=y_pred, auxiliary_metrics=True)\n"
   ]
  },
  {
   "cell_type": "code",
   "execution_count": 31,
   "id": "7d2aad45-4c71-42b7-bb2d-ddad63d86dbe",
   "metadata": {},
   "outputs": [
    {
     "data": {
      "text/plain": [
       "{'root_mean_squared_error': 6261.917441787303,\n",
       " 'mean_squared_error': 39211610.04776004,\n",
       " 'mean_absolute_error': 2714.507860110933,\n",
       " 'r2': 0.9947134852409363,\n",
       " 'pearsonr': 0.9973618596685103,\n",
       " 'median_absolute_error': 1035.6416015625}"
      ]
     },
     "execution_count": 31,
     "metadata": {},
     "output_type": "execute_result"
    }
   ],
   "source": [
    "# Using absolute values for rmse, mse, and median absolute error\n",
    "\n",
    "absolute_metrics = {key:abs(value) for key, value in metrics.items()}\n",
    "absolute_metrics"
   ]
  },
  {
   "cell_type": "code",
   "execution_count": 32,
   "id": "0c0a3fdd-63ba-4e46-b779-d6479e940287",
   "metadata": {},
   "outputs": [
    {
     "name": "stderr",
     "output_type": "stream",
     "text": [
      "These features in provided data are not utilized by the predictor and will be ignored: ['Unnamed: 0', 'Cluster']\n",
      "Computing feature importance via permutation shuffling for 8 features using 5000 rows with 5 shuffle sets...\n",
      "\t637.39s\t= Expected runtime (127.48s per shuffle set)\n",
      "\t606.45s\t= Actual runtime (Completed 5 of 5 shuffle sets)\n"
     ]
    },
    {
     "data": {
      "text/html": [
       "<div>\n",
       "<style scoped>\n",
       "    .dataframe tbody tr th:only-of-type {\n",
       "        vertical-align: middle;\n",
       "    }\n",
       "\n",
       "    .dataframe tbody tr th {\n",
       "        vertical-align: top;\n",
       "    }\n",
       "\n",
       "    .dataframe thead th {\n",
       "        text-align: right;\n",
       "    }\n",
       "</style>\n",
       "<table border=\"1\" class=\"dataframe\">\n",
       "  <thead>\n",
       "    <tr style=\"text-align: right;\">\n",
       "      <th></th>\n",
       "      <th>importance</th>\n",
       "      <th>stddev</th>\n",
       "      <th>p_value</th>\n",
       "      <th>n</th>\n",
       "      <th>p99_high</th>\n",
       "      <th>p99_low</th>\n",
       "    </tr>\n",
       "  </thead>\n",
       "  <tbody>\n",
       "    <tr>\n",
       "      <th>Item</th>\n",
       "      <td>105105.385876</td>\n",
       "      <td>1335.705762</td>\n",
       "      <td>3.129184e-09</td>\n",
       "      <td>5</td>\n",
       "      <td>107855.622500</td>\n",
       "      <td>102355.149251</td>\n",
       "    </tr>\n",
       "    <tr>\n",
       "      <th>Area</th>\n",
       "      <td>38573.758399</td>\n",
       "      <td>888.001219</td>\n",
       "      <td>3.367913e-08</td>\n",
       "      <td>5</td>\n",
       "      <td>40402.165183</td>\n",
       "      <td>36745.351614</td>\n",
       "    </tr>\n",
       "    <tr>\n",
       "      <th>Year</th>\n",
       "      <td>12924.665264</td>\n",
       "      <td>468.529337</td>\n",
       "      <td>2.068667e-07</td>\n",
       "      <td>5</td>\n",
       "      <td>13889.373644</td>\n",
       "      <td>11959.956883</td>\n",
       "    </tr>\n",
       "    <tr>\n",
       "      <th>k_labels</th>\n",
       "      <td>12362.563335</td>\n",
       "      <td>425.142855</td>\n",
       "      <td>1.675723e-07</td>\n",
       "      <td>5</td>\n",
       "      <td>13237.938350</td>\n",
       "      <td>11487.188321</td>\n",
       "    </tr>\n",
       "    <tr>\n",
       "      <th>Pesticides</th>\n",
       "      <td>6723.569745</td>\n",
       "      <td>174.123643</td>\n",
       "      <td>5.392924e-08</td>\n",
       "      <td>5</td>\n",
       "      <td>7082.092732</td>\n",
       "      <td>6365.046757</td>\n",
       "    </tr>\n",
       "    <tr>\n",
       "      <th>Unnamed: 0.1</th>\n",
       "      <td>6649.436824</td>\n",
       "      <td>377.641864</td>\n",
       "      <td>1.243074e-06</td>\n",
       "      <td>5</td>\n",
       "      <td>7427.006642</td>\n",
       "      <td>5871.867006</td>\n",
       "    </tr>\n",
       "    <tr>\n",
       "      <th>Avg Rainfall</th>\n",
       "      <td>2922.034505</td>\n",
       "      <td>195.242978</td>\n",
       "      <td>2.377720e-06</td>\n",
       "      <td>5</td>\n",
       "      <td>3324.042494</td>\n",
       "      <td>2520.026515</td>\n",
       "    </tr>\n",
       "    <tr>\n",
       "      <th>Temperature</th>\n",
       "      <td>2376.079997</td>\n",
       "      <td>148.511956</td>\n",
       "      <td>1.821897e-06</td>\n",
       "      <td>5</td>\n",
       "      <td>2681.868168</td>\n",
       "      <td>2070.291826</td>\n",
       "    </tr>\n",
       "  </tbody>\n",
       "</table>\n",
       "</div>"
      ],
      "text/plain": [
       "                 importance       stddev       p_value  n       p99_high  \\\n",
       "Item          105105.385876  1335.705762  3.129184e-09  5  107855.622500   \n",
       "Area           38573.758399   888.001219  3.367913e-08  5   40402.165183   \n",
       "Year           12924.665264   468.529337  2.068667e-07  5   13889.373644   \n",
       "k_labels       12362.563335   425.142855  1.675723e-07  5   13237.938350   \n",
       "Pesticides      6723.569745   174.123643  5.392924e-08  5    7082.092732   \n",
       "Unnamed: 0.1    6649.436824   377.641864  1.243074e-06  5    7427.006642   \n",
       "Avg Rainfall    2922.034505   195.242978  2.377720e-06  5    3324.042494   \n",
       "Temperature     2376.079997   148.511956  1.821897e-06  5    2681.868168   \n",
       "\n",
       "                    p99_low  \n",
       "Item          102355.149251  \n",
       "Area           36745.351614  \n",
       "Year           11959.956883  \n",
       "k_labels       11487.188321  \n",
       "Pesticides      6365.046757  \n",
       "Unnamed: 0.1    5871.867006  \n",
       "Avg Rainfall    2520.026515  \n",
       "Temperature     2070.291826  "
      ]
     },
     "execution_count": 32,
     "metadata": {},
     "output_type": "execute_result"
    }
   ],
   "source": [
    "# Feature Importance\n",
    "importance = predictor.feature_importance(test_df)\n",
    "importance"
   ]
  },
  {
   "cell_type": "markdown",
   "id": "4c163155-e1a2-4eb4-9f9f-ef3d9a93c5e9",
   "metadata": {},
   "source": [
    "## Testing/ Use Case"
   ]
  },
  {
   "cell_type": "code",
   "execution_count": 44,
   "id": "6dfc67ba-fe2e-4b40-bb7e-c19cd5991e71",
   "metadata": {},
   "outputs": [],
   "source": [
    "#  Use Case!\n",
    "# Adjust the rainfall, pesticide use, or temperature values and test predictions!\n",
    "crop_data = {\n",
    "    \"Avg Rainfall\": 1200,\n",
    "    \"Pesticides\": 110.0,\n",
    "    \"Temperature\": 18.5,\n",
    "    \"Area\": \"Nigeria\",           \n",
    "    \"Item\": \"Maize\",               \n",
    "    \"Year\": 2012,                  \n",
    "    \"Unnamed: 0.1\": 0,            \n",
    "    \"k_labels\": 1                  \n",
    "}\n",
    "\n",
    "crop_data = pd.DataFrame([crop_data])"
   ]
  },
  {
   "cell_type": "code",
   "execution_count": 45,
   "id": "5f6dc332-88bc-4c07-9a97-0b3d44c20254",
   "metadata": {},
   "outputs": [
    {
     "name": "stdout",
     "output_type": "stream",
     "text": [
      "Predicted Crop Yield (hg/ha): 39411.414\n"
     ]
    }
   ],
   "source": [
    "predicted_yield = predictor.predict(crop_data)\n",
    "print(\"Predicted Crop Yield (hg/ha):\", predicted_yield.values[0])"
   ]
  },
  {
   "cell_type": "markdown",
   "id": "987739e6-537a-413d-bbe8-0b20bf60ddec",
   "metadata": {},
   "source": [
    "## Vizualization"
   ]
  },
  {
   "cell_type": "code",
   "execution_count": 46,
   "id": "0e2cc2c0-b29f-44d7-92e9-49163ffbb767",
   "metadata": {},
   "outputs": [
    {
     "data": {
      "text/plain": [
       "count     28242.000000\n",
       "mean      77053.332094\n",
       "std       84956.612897\n",
       "min          50.000000\n",
       "25%       19919.250000\n",
       "50%       38295.000000\n",
       "75%      104676.750000\n",
       "max      501412.000000\n",
       "Name: Yield, dtype: float64"
      ]
     },
     "execution_count": 46,
     "metadata": {},
     "output_type": "execute_result"
    }
   ],
   "source": [
    "data['Yield'].describe()"
   ]
  },
  {
   "cell_type": "code",
   "execution_count": 47,
   "id": "f56e07ae-c964-4929-8676-0e0d4cf4df24",
   "metadata": {},
   "outputs": [
    {
     "data": {
      "image/png": "[encoded data removed]",
      "text/plain": [
       "<Figure size 640x480 with 1 Axes>"
      ]
     },
     "metadata": {},
     "output_type": "display_data"
    }
   ],
   "source": [
    "sns.boxplot(x=data['Yield']);\n"
   ]
  },
  {
   "cell_type": "code",
   "execution_count": 48,
   "id": "feeb88db-a5a7-41e4-9f77-d29ca93a4730",
   "metadata": {},
   "outputs": [
    {
     "data": {
      "image/png": "[encoded data removed]",
      "text/plain": [
       "<Figure size 1000x600 with 1 Axes>"
      ]
     },
     "metadata": {},
     "output_type": "display_data"
    }
   ],
   "source": [
    "# Convert to DataFrame for plotting\n",
    "df_metrics = pd.DataFrame(list(metrics.items()), columns=['Metric', 'Value'])\n",
    "\n",
    "# Create a bar plot (future-proofed)\n",
    "plt.figure(figsize=(10, 6))\n",
    "sns.barplot(data=df_metrics, x='Metric', y='Value', hue='Metric', palette='Blues_d', legend=False)\n",
    "plt.xticks(rotation=45, ha='right')\n",
    "plt.title('Model Evaluation Metrics')\n",
    "plt.tight_layout()\n",
    "plt.show()\n"
   ]
  },
  {
   "cell_type": "code",
   "execution_count": 49,
   "id": "e5d8f98e-e75e-4fb1-8782-52d3d3f9832a",
   "metadata": {},
   "outputs": [
    {
     "data": {
      "image/png": "[encoded data removed]",
      "text/plain": [
       "<Figure size 640x480 with 1 Axes>"
      ]
     },
     "metadata": {},
     "output_type": "display_data"
    }
   ],
   "source": [
    "# Extract and log-transform values (skip non-positive)\n",
    "metric_values = list(metrics.values())\n",
    "log_metrics = np.log10([value for value in metric_values if value > 0])\n",
    "\n",
    "# QQ plot\n",
    "stats.probplot(log_metrics, dist=\"norm\", plot=plt)\n",
    "plt.title(\"QQ Plot of Log10-Transformed Metrics\")\n",
    "plt.show()"
   ]
  },
  {
   "cell_type": "code",
   "execution_count": 50,
   "id": "724d8451-e419-4948-8e6e-f1fb9f3884d6",
   "metadata": {},
   "outputs": [
    {
     "data": {
      "image/png": "[encoded data removed]",
      "text/plain": [
       "<Figure size 1000x500 with 1 Axes>"
      ]
     },
     "metadata": {},
     "output_type": "display_data"
    }
   ],
   "source": [
    "import matplotlib.pyplot as plt\n",
    "\n",
    "# Names and values\n",
    "metric_names = list(metrics.keys())\n",
    "metric_vals = list(metrics.values())\n",
    "\n",
    "# Bar plot\n",
    "plt.figure(figsize=(10, 5))\n",
    "plt.barh(metric_names, metric_vals, color='steelblue')\n",
    "plt.title(\"Model Evaluation Metrics\")\n",
    "plt.xlabel(\"Value\")\n",
    "plt.grid(True, axis='x')\n",
    "plt.tight_layout()\n",
    "plt.show()\n"
   ]
  },
  {
   "cell_type": "markdown",
   "id": "d0e148fc-2919-4acc-a4cc-a8ee088d3b10",
   "metadata": {},
   "source": [
    "## Conclusion"
   ]
  },
  {
   "cell_type": "markdown",
   "id": "d426b7c0-b554-4817-8389-af0381b40079",
   "metadata": {},
   "source": [
    "\n",
    "### 📊 Metric Interpretation\n",
    "\n",
    "- **Root Mean Squared Error (RMSE)**: **6,261.92** – The average prediction error magnitude is around 6,262 units, with larger errors penalized more heavily. This is reasonably low considering the scale of crop yields.\n",
    "- **Mean Squared Error (MSE)**: **39,211,610.05** – Reflects the average of squared differences between predicted and actual values. Large due to the squaring effect, but still manageable at this scale.\n",
    "- **Mean Absolute Error (MAE)**: **2,714.51** – On average, predictions are off by around 2,715 units. This shows good overall precision.\n",
    "- **Median Absolute Error**: **1,035.64** – Half of the prediction errors are less than ~1,036 units, indicating tight accuracy for many data points.\n",
    "- **R² (Coefficient of Determination)**: **0.9947** – Nearly perfect fit. The model explains **over 99%** of the variance in crop yields.\n",
    "- **Pearson Correlation (r)**: **0.9974** – Extremely strong linear correlation between predicted and actual values, approaching perfection.\n",
    "\n",
    "---\n",
    "\n",
    "### Conclusion\n",
    "\n",
    "The AutoGluon model performs **exceptionally well** on this dataset.\n",
    "\n",
    "- Predictions are **highly accurate** with relatively small error margins.\n",
    "- The **R² score of 0.9947** and **Pearson correlation of 0.9974** confirm that the model fits the data almost perfectly.\n",
    "- This level of performance suggests:\n",
    "  - **Strong signal** in the predictors (rainfall, pesticides, temperature).\n",
    "  - **No significant overfitting** or underfitting.\n",
    "  - The dataset is likely **clean and consistent**, with well-defined patterns.\n",
    "\n",
    "This model is highly suitable for making reliable crop yield predictions in practical or research settings.\n"
   ]
  }
 ],
 "metadata": {
  "kernelspec": {
   "display_name": "Python 3 (ipykernel)",
   "language": "python",
   "name": "python3"
  },
  "language_info": {
   "codemirror_mode": {
    "name": "ipython",
    "version": 3
   },
   "file_extension": ".py",
   "mimetype": "text/x-python",
   "name": "python",
   "nbconvert_exporter": "python",
   "pygments_lexer": "ipython3",
   "version": "3.9.21"
  }
 },
 "nbformat": 4,
 "nbformat_minor": 5
}
